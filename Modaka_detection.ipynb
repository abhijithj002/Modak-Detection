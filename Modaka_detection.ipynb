{
 "cells": [
  {
   "cell_type": "code",
   "execution_count": 25,
   "metadata": {
    "scrolled": true
   },
   "outputs": [],
   "source": [
    "import os\n",
    "import sys\n",
    "import datetime\n",
    "import glob as glob\n",
    "import numpy as np\n",
    "import cv2\n",
    "import keras\n",
    "from keras.applications.vgg16 import VGG16, preprocess_input\n",
    "from keras.models import Model\n",
    "from keras.layers import Dense, GlobalAveragePooling2D\n",
    "from keras.preprocessing.image import ImageDataGenerator, array_to_img, img_to_array, load_img\n",
    "from keras.optimizers import SGD\n",
    "import tensorflow\n",
    "#from scipy.interpolate import spline\n",
    "import pandas as pd\n",
    "import matplotlib.pyplot as plt\n",
    "%matplotlib inline"
   ]
  },
  {
   "cell_type": "markdown",
   "metadata": {},
   "source": [
    "# DATA LOADING"
   ]
  },
  {
   "cell_type": "code",
   "execution_count": 26,
   "metadata": {},
   "outputs": [],
   "source": [
    "# default settings\n",
    "img_width, img_height = 224, 224\n",
    "\n",
    "train_dir = '/home/dell/Downloads/train/'\n",
    "validate_dir = '/home/dell/Downloads/val/'\n",
    "nb_epochs = 20\n",
    "batch_size = 2\n",
    "nb_classes = len(glob.glob(train_dir + '/*'))"
   ]
  },
  {
   "cell_type": "code",
   "execution_count": 27,
   "metadata": {},
   "outputs": [
    {
     "name": "stdout",
     "output_type": "stream",
     "text": [
      "297\n"
     ]
    }
   ],
   "source": [
    "# get number of images in training directory\n",
    "nb_train_samples = 0\n",
    "for r, dirs, files in os.walk(train_dir):\n",
    "    for dr in dirs:\n",
    "        nb_train_samples += len(glob.glob(os.path.join(r, dr + \"/*\")))\n",
    "print(nb_train_samples)"
   ]
  },
  {
   "cell_type": "code",
   "execution_count": 28,
   "metadata": {},
   "outputs": [
    {
     "name": "stdout",
     "output_type": "stream",
     "text": [
      "33\n"
     ]
    }
   ],
   "source": [
    "# get number of images in validation directory\n",
    "nb_validate_samples = 0\n",
    "for r, dirs, files in os.walk(validate_dir):\n",
    "    for dr in dirs:\n",
    "        nb_validate_samples += len(glob.glob(os.path.join(r, dr + \"/*\")))\n",
    "print(nb_validate_samples)"
   ]
  },
  {
   "cell_type": "markdown",
   "metadata": {},
   "source": [
    "# DATA AUGMENTATION"
   ]
  },
  {
   "cell_type": "code",
   "execution_count": 29,
   "metadata": {},
   "outputs": [],
   "source": [
    "# data pre-processing for training\n",
    "train_datagen =  ImageDataGenerator(\n",
    "    rescale = 1./255,\n",
    "    rotation_range = 20,\n",
    "    width_shift_range = 0.2,\n",
    "    height_shift_range = 0.2,\n",
    "    shear_range = 0.2,\n",
    "    zoom_range = 0.2,\n",
    "    fill_mode = 'nearest',\n",
    "    horizontal_flip = True)"
   ]
  },
  {
   "cell_type": "code",
   "execution_count": 30,
   "metadata": {},
   "outputs": [],
   "source": [
    "# data pre-processing for validation\n",
    "validate_datagen =  ImageDataGenerator(\n",
    "    rescale = 1./255,\n",
    "    rotation_range = 20,\n",
    "    width_shift_range = 0.2,\n",
    "    height_shift_range = 0.2,\n",
    "    shear_range = 0.2,\n",
    "    zoom_range = 0.2,\n",
    "    fill_mode = 'nearest',\n",
    "    horizontal_flip = True)"
   ]
  },
  {
   "cell_type": "code",
   "execution_count": 31,
   "metadata": {},
   "outputs": [
    {
     "name": "stdout",
     "output_type": "stream",
     "text": [
      "Found 297 images belonging to 2 classes.\n"
     ]
    }
   ],
   "source": [
    "# generate and store training data\n",
    "train_generator = train_datagen.flow_from_directory(\n",
    "    train_dir,\n",
    "    target_size = (img_width, img_height),\n",
    "    batch_size = batch_size)"
   ]
  },
  {
   "cell_type": "code",
   "execution_count": 32,
   "metadata": {},
   "outputs": [
    {
     "name": "stdout",
     "output_type": "stream",
     "text": [
      "Found 33 images belonging to 2 classes.\n"
     ]
    }
   ],
   "source": [
    "# generate and store validation data\n",
    "validate_generator = validate_datagen.flow_from_directory(\n",
    "    validate_dir,\n",
    "    target_size = (img_width, img_height),\n",
    "    batch_size = batch_size)\n",
    "\n"
   ]
  },
  {
   "cell_type": "markdown",
   "metadata": {},
   "source": [
    "# LOADING THE MODEL"
   ]
  },
  {
   "cell_type": "code",
   "execution_count": 33,
   "metadata": {},
   "outputs": [
    {
     "name": "stderr",
     "output_type": "stream",
     "text": [
      "/usr/lib/python3/dist-packages/ipykernel_launcher.py:10: UserWarning: Update your `Model` call to the Keras 2 API: `Model(inputs=Tensor(\"in..., outputs=Tensor(\"de...)`\n",
      "  # Remove the CWD from sys.path while we load stuff.\n"
     ]
    }
   ],
   "source": [
    "\n",
    "\n",
    "# set up transfer learning on pre-trained ImageNet VGG16 model \n",
    "vgg16_model = VGG16(weights = 'imagenet', include_top = False)\n",
    "x = vgg16_model.output\n",
    "x = GlobalAveragePooling2D()(x)\n",
    "x = Dense(1024, activation='relu')(x)\n",
    "predictions = Dense(nb_classes, activation = 'sigmoid')(x)\n",
    "model = Model(input = vgg16_model.input, output = predictions)\n",
    "\n"
   ]
  },
  {
   "cell_type": "code",
   "execution_count": 34,
   "metadata": {},
   "outputs": [],
   "source": [
    "# freeze all layers of the pre-trained model\n",
    "for layer in vgg16_model.layers:\n",
    "    layer.trainable = False"
   ]
  },
  {
   "cell_type": "code",
   "execution_count": 35,
   "metadata": {},
   "outputs": [],
   "source": [
    "# compile the new model using a RMSProp optimizer\n",
    "model.compile(optimizer = 'rmsprop',\n",
    "    loss = 'binary_crossentropy',\n",
    "    metrics = ['accuracy'])"
   ]
  },
  {
   "cell_type": "markdown",
   "metadata": {},
   "source": [
    "# TRAINING"
   ]
  },
  {
   "cell_type": "code",
   "execution_count": 36,
   "metadata": {},
   "outputs": [
    {
     "name": "stderr",
     "output_type": "stream",
     "text": [
      "/usr/lib/python3/dist-packages/ipykernel_launcher.py:10: UserWarning: The semantics of the Keras 2 argument `steps_per_epoch` is not the same as the Keras 1 argument `samples_per_epoch`. `steps_per_epoch` is the number of batches to draw from the generator at each epoch. Basically steps_per_epoch = samples_per_epoch/batch_size. Similarly `nb_val_samples`->`validation_steps` and `val_samples`->`steps` arguments have changed. Update your method calls accordingly.\n",
      "  # Remove the CWD from sys.path while we load stuff.\n",
      "/usr/lib/python3/dist-packages/ipykernel_launcher.py:10: UserWarning: Update your `fit_generator` call to the Keras 2 API: `fit_generator(<keras.pre..., validation_data=<keras.pre..., class_weight=\"auto\", steps_per_epoch=148, epochs=20, validation_steps=33)`\n",
      "  # Remove the CWD from sys.path while we load stuff.\n"
     ]
    },
    {
     "name": "stdout",
     "output_type": "stream",
     "text": [
      "Epoch 1/20\n",
      "148/148 [==============================] - 107s 722ms/step - loss: 0.3039 - accuracy: 0.8831 - val_loss: 0.0488 - val_accuracy: 0.9692\n",
      "Epoch 2/20\n",
      "148/148 [==============================] - 109s 735ms/step - loss: 0.1191 - accuracy: 0.9559 - val_loss: 0.0013 - val_accuracy: 0.9688\n",
      "Epoch 3/20\n",
      "148/148 [==============================] - 112s 755ms/step - loss: 0.0979 - accuracy: 0.9729 - val_loss: 0.0230 - val_accuracy: 1.0000\n",
      "Epoch 4/20\n",
      "148/148 [==============================] - 111s 747ms/step - loss: 0.0814 - accuracy: 0.9729 - val_loss: 0.0074 - val_accuracy: 0.9688\n",
      "Epoch 5/20\n",
      "148/148 [==============================] - 111s 747ms/step - loss: 0.0716 - accuracy: 0.9763 - val_loss: 3.2738e-05 - val_accuracy: 0.9844\n",
      "Epoch 6/20\n",
      "148/148 [==============================] - 112s 758ms/step - loss: 0.0826 - accuracy: 0.9695 - val_loss: 2.1919e-04 - val_accuracy: 1.0000\n",
      "Epoch 7/20\n",
      "148/148 [==============================] - 107s 725ms/step - loss: 0.0554 - accuracy: 0.9797 - val_loss: 7.9193e-05 - val_accuracy: 1.0000\n",
      "Epoch 8/20\n",
      "148/148 [==============================] - 106s 715ms/step - loss: 0.0532 - accuracy: 0.9831 - val_loss: 6.9394e-09 - val_accuracy: 0.9844\n",
      "Epoch 9/20\n",
      "148/148 [==============================] - 106s 715ms/step - loss: 0.0330 - accuracy: 0.9932 - val_loss: 3.0179e-05 - val_accuracy: 0.9688\n",
      "Epoch 10/20\n",
      "148/148 [==============================] - 106s 718ms/step - loss: 0.0680 - accuracy: 0.9797 - val_loss: 0.0856 - val_accuracy: 1.0000\n",
      "Epoch 11/20\n",
      "148/148 [==============================] - 105s 709ms/step - loss: 0.0372 - accuracy: 0.9898 - val_loss: 5.5954e-06 - val_accuracy: 0.9531\n",
      "Epoch 12/20\n",
      "148/148 [==============================] - 105s 708ms/step - loss: 0.0492 - accuracy: 0.9864 - val_loss: 1.0205e-08 - val_accuracy: 0.9531\n",
      "Epoch 13/20\n",
      "148/148 [==============================] - 110s 740ms/step - loss: 0.0519 - accuracy: 0.9864 - val_loss: 5.5972e-06 - val_accuracy: 0.9844\n",
      "Epoch 14/20\n",
      "148/148 [==============================] - 110s 745ms/step - loss: 0.0685 - accuracy: 0.9831 - val_loss: 3.2829e-06 - val_accuracy: 0.9688\n",
      "Epoch 15/20\n",
      "148/148 [==============================] - 109s 738ms/step - loss: 0.0392 - accuracy: 0.9932 - val_loss: 1.6785e-07 - val_accuracy: 0.9844\n",
      "Epoch 16/20\n",
      "148/148 [==============================] - 108s 731ms/step - loss: 0.0387 - accuracy: 0.9830 - val_loss: 2.2713e-05 - val_accuracy: 1.0000\n",
      "Epoch 17/20\n",
      "148/148 [==============================] - 111s 753ms/step - loss: 0.0357 - accuracy: 0.9898 - val_loss: 1.0490e-08 - val_accuracy: 0.9688\n",
      "Epoch 18/20\n",
      "148/148 [==============================] - 108s 729ms/step - loss: 0.0275 - accuracy: 0.9881 - val_loss: 2.7538e-12 - val_accuracy: 0.8308\n",
      "Epoch 19/20\n",
      "148/148 [==============================] - 111s 753ms/step - loss: 0.0392 - accuracy: 0.9898 - val_loss: 0.2259 - val_accuracy: 1.0000\n",
      "Epoch 20/20\n",
      "148/148 [==============================] - 108s 729ms/step - loss: 0.0543 - accuracy: 0.9864 - val_loss: 2.1693e-05 - val_accuracy: 0.8750\n",
      "Training time: 0:36:12.579945\n"
     ]
    }
   ],
   "source": [
    "# fit the model, log the results and the training time\n",
    "now = datetime.datetime.now\n",
    "t = now()\n",
    "transfer_learning_history = model.fit_generator(\n",
    "    train_generator,\n",
    "    nb_epoch = nb_epochs,\n",
    "    samples_per_epoch = nb_train_samples,\n",
    "    validation_data = validate_generator,\n",
    "    nb_val_samples = nb_validate_samples,\n",
    "    class_weight='auto')\n",
    "print('Training time: %s' % (now() - t))"
   ]
  },
  {
   "cell_type": "code",
   "execution_count": 37,
   "metadata": {},
   "outputs": [
    {
     "name": "stdout",
     "output_type": "stream",
     "text": [
      "Test Loss: 0.6562985181808472\n",
      "Test Accuracy: 0.9692307710647583\n"
     ]
    }
   ],
   "source": [
    "# evaluate the performance the new model and report the results\n",
    "score = model.evaluate_generator(validate_generator, nb_validate_samples)\n",
    "print(\"Test Loss:\", score[0])\n",
    "print(\"Test Accuracy:\", score[1])"
   ]
  },
  {
   "cell_type": "markdown",
   "metadata": {},
   "source": [
    "# FINE TUNING"
   ]
  },
  {
   "cell_type": "code",
   "execution_count": 11,
   "metadata": {},
   "outputs": [
    {
     "name": "stdout",
     "output_type": "stream",
     "text": [
      "WARNING:tensorflow:From /home/dell/.local/lib/python3.7/site-packages/tensorflow/python/ops/nn_impl.py:180: add_dispatch_support.<locals>.wrapper (from tensorflow.python.ops.array_ops) is deprecated and will be removed in a future version.\n",
      "Instructions for updating:\n",
      "Use tf.where in 2.0, which has the same broadcast rule as np.where\n"
     ]
    },
    {
     "name": "stderr",
     "output_type": "stream",
     "text": [
      "/usr/lib/python3/dist-packages/ipykernel_launcher.py:19: UserWarning: The semantics of the Keras 2 argument `steps_per_epoch` is not the same as the Keras 1 argument `samples_per_epoch`. `steps_per_epoch` is the number of batches to draw from the generator at each epoch. Basically steps_per_epoch = samples_per_epoch/batch_size. Similarly `nb_val_samples`->`validation_steps` and `val_samples`->`steps` arguments have changed. Update your method calls accordingly.\n",
      "/usr/lib/python3/dist-packages/ipykernel_launcher.py:19: UserWarning: Update your `fit_generator` call to the Keras 2 API: `fit_generator(<keras.pre..., validation_data=<keras.pre..., class_weight=\"auto\", steps_per_epoch=164, epochs=20, validation_steps=27)`\n"
     ]
    },
    {
     "name": "stdout",
     "output_type": "stream",
     "text": [
      "WARNING:tensorflow:From /home/dell/.local/lib/python3.7/site-packages/keras/backend/tensorflow_backend.py:422: The name tf.global_variables is deprecated. Please use tf.compat.v1.global_variables instead.\n",
      "\n",
      "Epoch 1/20\n",
      "164/164 [==============================] - 405s 2s/step - loss: 0.4932 - accuracy: 0.7768 - val_loss: 0.2438 - val_accuracy: 0.9811\n",
      "Epoch 2/20\n",
      "164/164 [==============================] - 406s 2s/step - loss: 0.1931 - accuracy: 0.9343 - val_loss: 0.0271 - val_accuracy: 0.9808\n",
      "Epoch 3/20\n",
      "164/164 [==============================] - 401s 2s/step - loss: 0.1128 - accuracy: 0.9557 - val_loss: 0.0122 - val_accuracy: 1.0000\n",
      "Epoch 4/20\n",
      "164/164 [==============================] - 397s 2s/step - loss: 0.1045 - accuracy: 0.9602 - val_loss: 0.0215 - val_accuracy: 0.9808\n",
      "Epoch 5/20\n",
      "164/164 [==============================] - 407s 2s/step - loss: 0.0775 - accuracy: 0.9725 - val_loss: 0.1560 - val_accuracy: 0.9904\n",
      "Epoch 6/20\n",
      "164/164 [==============================] - 401s 2s/step - loss: 0.0692 - accuracy: 0.9847 - val_loss: 0.0024 - val_accuracy: 1.0000\n",
      "Epoch 7/20\n",
      "164/164 [==============================] - 403s 2s/step - loss: 0.0770 - accuracy: 0.9817 - val_loss: 0.0026 - val_accuracy: 1.0000\n",
      "Epoch 8/20\n",
      "164/164 [==============================] - 401s 2s/step - loss: 0.0322 - accuracy: 0.9878 - val_loss: 0.0079 - val_accuracy: 0.9135\n",
      "Epoch 9/20\n",
      "164/164 [==============================] - 400s 2s/step - loss: 0.0438 - accuracy: 0.9878 - val_loss: 0.0070 - val_accuracy: 0.9808\n",
      "Epoch 10/20\n",
      "164/164 [==============================] - 399s 2s/step - loss: 0.0116 - accuracy: 0.9969 - val_loss: 0.0087 - val_accuracy: 1.0000\n",
      "Epoch 11/20\n",
      "164/164 [==============================] - 404s 2s/step - loss: 0.0038 - accuracy: 1.0000 - val_loss: 3.3731e-06 - val_accuracy: 1.0000\n",
      "Epoch 12/20\n",
      "164/164 [==============================] - 404s 2s/step - loss: 0.0587 - accuracy: 0.9786 - val_loss: 0.0204 - val_accuracy: 1.0000\n",
      "Epoch 13/20\n",
      "164/164 [==============================] - 405s 2s/step - loss: 0.0118 - accuracy: 0.9985 - val_loss: 6.1111e-04 - val_accuracy: 1.0000\n",
      "Epoch 14/20\n",
      "164/164 [==============================] - 399s 2s/step - loss: 0.0301 - accuracy: 0.9908 - val_loss: 9.1738e-04 - val_accuracy: 1.0000\n",
      "Epoch 15/20\n",
      "164/164 [==============================] - 416s 3s/step - loss: 0.0032 - accuracy: 1.0000 - val_loss: 1.5766e-05 - val_accuracy: 1.0000\n",
      "Epoch 16/20\n",
      "164/164 [==============================] - 398s 2s/step - loss: 0.0029 - accuracy: 1.0000 - val_loss: 1.1289e-04 - val_accuracy: 1.0000\n",
      "Epoch 17/20\n",
      "164/164 [==============================] - 396s 2s/step - loss: 0.0044 - accuracy: 0.9970 - val_loss: 1.3377e-05 - val_accuracy: 1.0000\n",
      "Epoch 18/20\n",
      "164/164 [==============================] - 395s 2s/step - loss: 9.6898e-04 - accuracy: 1.0000 - val_loss: 2.9709e-05 - val_accuracy: 1.0000\n",
      "Epoch 19/20\n",
      "164/164 [==============================] - 394s 2s/step - loss: 0.0017 - accuracy: 1.0000 - val_loss: 9.9160e-07 - val_accuracy: 1.0000\n",
      "Epoch 20/20\n",
      "164/164 [==============================] - 401s 2s/step - loss: 2.8758e-04 - accuracy: 1.0000 - val_loss: 3.0522e-07 - val_accuracy: 1.0000\n",
      "Training time: 2:13:53.034950\n"
     ]
    }
   ],
   "source": [
    "# Step 1 - Set up fine tuning on pre-trained ImageNet VGG16 model - train all layers\n",
    "for layer in model.layers:\n",
    "    layer.trainable = True\n",
    "    \n",
    "# Step 2 - Compile the revised model using SGD optimizer with a learing rate of 0.0001 and a momentum of 0.9\n",
    "model.compile(optimizer = SGD(lr = 0.0001, momentum=0.9), \n",
    "    loss = 'binary_crossentropy',\n",
    "    metrics = ['accuracy'])\n",
    "\n",
    "# Step 3 - Fit the revised model, log the results and the training time\n",
    "now = datetime.datetime.now\n",
    "t = now()\n",
    "fine_tuning_history = model.fit_generator(\n",
    "    train_generator,\n",
    "    nb_epoch = nb_epochs,\n",
    "    samples_per_epoch = nb_train_samples,\n",
    "    validation_data = validate_generator,\n",
    "    nb_val_samples = nb_validate_samples,\n",
    "    class_weight='auto')\n",
    "print('Training time: %s' % (now() - t))"
   ]
  },
  {
   "cell_type": "code",
   "execution_count": 12,
   "metadata": {},
   "outputs": [
    {
     "name": "stdout",
     "output_type": "stream",
     "text": [
      "Test Loss: 7.132034807000309e-05\n",
      "Test Accuracy: 1.0\n"
     ]
    }
   ],
   "source": [
    "# evaluate the performance the new model and report the results\n",
    "score = model.evaluate_generator(validate_generator, nb_validate_samples)\n",
    "print(\"Test Loss:\", score[0])\n",
    "print(\"Test Accuracy:\", score[1])"
   ]
  },
  {
   "cell_type": "code",
   "execution_count": null,
   "metadata": {},
   "outputs": [],
   "source": []
  }
 ],
 "metadata": {
  "kernelspec": {
   "display_name": "Python 3",
   "language": "python",
   "name": "python3"
  },
  "language_info": {
   "codemirror_mode": {
    "name": "ipython",
    "version": 3
   },
   "file_extension": ".py",
   "mimetype": "text/x-python",
   "name": "python",
   "nbconvert_exporter": "python",
   "pygments_lexer": "ipython3",
   "version": "3.7.5rc1"
  }
 },
 "nbformat": 4,
 "nbformat_minor": 2
}
